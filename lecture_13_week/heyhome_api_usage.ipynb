{
 "cells": [
  {
   "cell_type": "code",
   "execution_count": null,
   "id": "5d4ae607-3412-4c6e-94a1-c78d254dcef6",
   "metadata": {},
   "outputs": [],
   "source": [
    "from Crypto.Cipher import AES\n",
    "from Crypto.Util.Padding import pad, unpad\n",
    "import base64\n",
    "import os\n",
    "import time\n",
    "from dotenv import load_dotenv\n",
    "import requests\n",
    "import json\n",
    "import csv"
   ]
  },
  {
   "cell_type": "markdown",
   "id": "4dea8faf-5e72-470b-98bc-5767aa545762",
   "metadata": {},
   "source": [
    "### 환경 변수 로드"
   ]
  },
  {
   "cell_type": "code",
   "execution_count": 2,
   "id": "1efb8b7c-452a-413f-9742-efa9d0c70436",
   "metadata": {},
   "outputs": [
    {
     "data": {
      "text/plain": [
       "True"
      ]
     },
     "execution_count": 2,
     "metadata": {},
     "output_type": "execute_result"
    }
   ],
   "source": [
    "load_dotenv()"
   ]
  },
  {
   "cell_type": "markdown",
   "id": "2c676551-0566-43d9-8a09-a38e7e030e1d",
   "metadata": {},
   "source": [
    "### Heyhome API 설정"
   ]
  },
  {
   "cell_type": "markdown",
   "id": "48c0ffc9-6bfa-42db-8bb4-64e069106824",
   "metadata": {},
   "source": [
    "##### Address : https://goqual.notion.site/API-078d8c3c22f24b23bda799e38f2c819d"
   ]
  },
  {
   "cell_type": "code",
   "execution_count": 3,
   "id": "b833c12c-14bd-4f31-b196-4494629911eb",
   "metadata": {},
   "outputs": [],
   "source": [
    "CLIENT_ID = os.getenv('CLIENT_ID')\n",
    "CLIENT_SECRET = os.getenv('CLIENT_SECRET')\n",
    "APP_KEY = os.getenv('APP_KEY')\n",
    "USERNAME = os.getenv('USERNAME')\n",
    "PASSWORD = os.getenv('PASSWORD')\n",
    "REDIRECTURI = os.getenv('REDIRECTURI')\n",
    "BASE_URL = os.getenv('BASE_URL')"
   ]
  },
  {
   "cell_type": "code",
   "execution_count": 4,
   "id": "e92cb0a6-5ef4-40ab-bf21-f15183182106",
   "metadata": {},
   "outputs": [],
   "source": [
    "# print(CLIENT_ID, CLIENT_SECRET, APP_KEY, USERNAME, PASSWORD, REDIRECTURI, BASE_URL)"
   ]
  },
  {
   "cell_type": "markdown",
   "id": "9c4bd56c-05d4-4fe4-8af0-5dde3574d5da",
   "metadata": {},
   "source": [
    "## AES256 암호화 클래스"
   ]
  },
  {
   "cell_type": "code",
   "execution_count": 5,
   "id": "f22cb866-af56-4287-9055-109f88c5b763",
   "metadata": {},
   "outputs": [],
   "source": [
    "class AES256:\n",
    "    def __init__(self, appKey):\n",
    "        self.appKey = appKey\n",
    "\n",
    "    def encrypt(self, text):\n",
    "        key = self.appKey[:32].encode('utf-8')\n",
    "        iv = self.appKey[:16].encode('utf-8')\n",
    "        cipher = AES.new(key, AES.MODE_CBC, iv)\n",
    "        encrypted = cipher.encrypt(pad(text.encode('utf-8'), AES.block_size))\n",
    "        return base64.urlsafe_b64encode(encrypted).decode('utf-8')\n",
    "\n",
    "    def decrypt(self, cipherText):\n",
    "        key = self.appKey[:32].encode('utf-8')\n",
    "        iv = self.appKey[:16].encode('utf-8')\n",
    "        cipher = AES.new(key, AES.MODE_CBC, iv)\n",
    "        decodedBytes = base64.urlsafe_b64decode(cipherText)\n",
    "        decrypted = unpad(cipher.decrypt(decodedBytes), AES.block_size)\n",
    "        return decrypted.decode('utf-8')"
   ]
  },
  {
   "cell_type": "markdown",
   "id": "fd352bd7-8391-4e5f-b9b9-858f38366078",
   "metadata": {},
   "source": [
    "### Heyhome API 연결 설정"
   ]
  },
  {
   "cell_type": "code",
   "execution_count": 6,
   "id": "4d1cb2f0-b716-4270-bdf5-d5898b1ce8fd",
   "metadata": {},
   "outputs": [],
   "source": [
    "aes256 = AES256(APP_KEY)"
   ]
  },
  {
   "cell_type": "code",
   "execution_count": 7,
   "id": "1f909ff9-1d30-4c58-a758-2a5e2247f39e",
   "metadata": {},
   "outputs": [],
   "source": [
    "json_data = {\n",
    "    \"client_id\": CLIENT_ID,\n",
    "    \"client_secret\": CLIENT_SECRET,\n",
    "    \"grant_type\": \"password\",\n",
    "    \"username\": USERNAME,\n",
    "    \"password\": PASSWORD\n",
    "}"
   ]
  },
  {
   "cell_type": "markdown",
   "id": "07666dce-0ca4-4a63-90a0-7120618abfd4",
   "metadata": {},
   "source": [
    "### 데이터 암호화"
   ]
  },
  {
   "cell_type": "code",
   "execution_count": 8,
   "id": "49871415-a997-4617-b089-c46dee165a6d",
   "metadata": {},
   "outputs": [
    {
     "data": {
      "text/plain": [
       "'AA6Twh14cgrcahuLYjU3f0ReyDF6aUsGsT5jDTkg8AjTeJJOv_z8W-SGObovlw_OFkd1JGTX0g6BRTbvB4bXcVyDDdFt2OX_iXoO6t953HEsyKW9_v77yYqWhnmlH8YuInTzuwafaZ7zoRIWvSOb7yoWaoNeJX3aqEkSlmYc8xYN0gxVoqej_qlztGj_8MF_KtO2bkd311QDiaXfNeLE96ID3RLtFpPB5BvYeaOFUwU_SbFidUG0fv2IKtCL-Ymh'"
      ]
     },
     "execution_count": 8,
     "metadata": {},
     "output_type": "execute_result"
    }
   ],
   "source": [
    "encrypted_data = aes256.encrypt(json.dumps(json_data))\n",
    "encrypted_data"
   ]
  },
  {
   "cell_type": "markdown",
   "id": "cd5fcb22-2434-44fd-8f11-19bd77ed1249",
   "metadata": {},
   "source": [
    "### Heyhome API 토큰 발급"
   ]
  },
  {
   "cell_type": "code",
   "execution_count": 9,
   "id": "d78b6b00-1868-4b38-aa09-cbbfc21883bd",
   "metadata": {},
   "outputs": [
    {
     "data": {
      "text/plain": [
       "<Response [200]>"
      ]
     },
     "execution_count": 9,
     "metadata": {},
     "output_type": "execute_result"
    }
   ],
   "source": [
    "token_url = f\"{BASE_URL}/token\"\n",
    "response = requests.post(\n",
    "        token_url,\n",
    "        json={\"data\": encrypted_data}\n",
    "    )\n",
    "response"
   ]
  },
  {
   "cell_type": "code",
   "execution_count": null,
   "id": "616b6e75-e105-4036-9b4a-f6b9406ee21e",
   "metadata": {},
   "outputs": [
    {
     "data": {
      "text/plain": [
       "{'access_token': '81d9ebf7-dd6c-4918-bd5d-b0a26fd49cb7',\n",
       " 'token_type': 'bearer',\n",
       " 'refresh_token': '2414c30e-b918-4980-a6f3-daa4a4173694',\n",
       " 'expires_in': 14324121,\n",
       " 'scope': 'openapi'}"
      ]
     },
     "execution_count": 10,
     "metadata": {},
     "output_type": "execute_result"
    }
   ],
   "source": [
    "if response.status_code == 200:\n",
    "    token_data = response.json()\n",
    "# token_data"
   ]
  },
  {
   "cell_type": "code",
   "execution_count": null,
   "id": "bbe874cf-a02f-43aa-900b-f818295e1b0d",
   "metadata": {},
   "outputs": [
    {
     "data": {
      "text/plain": [
       "'81d9ebf7-dd6c-4918-bd5d-b0a26fd49cb7'"
      ]
     },
     "execution_count": 11,
     "metadata": {},
     "output_type": "execute_result"
    }
   ],
   "source": [
    "ACCESS_TOKEN = token_data.get('access_token')\n",
    "# ACCESS_TOKEN"
   ]
  },
  {
   "cell_type": "markdown",
   "id": "f4cf00bf-69b9-4019-9311-55e52bf5d280",
   "metadata": {},
   "source": [
    "### Heyhome Device List"
   ]
  },
  {
   "cell_type": "markdown",
   "id": "d62491cb-783b-4c00-84be-eb5c14d2fbe9",
   "metadata": {},
   "source": [
    "#### https://goqual.notion.site/device-API-eee52e71bf1c4903b090b1330876c09d"
   ]
  },
  {
   "cell_type": "code",
   "execution_count": 12,
   "id": "994ae1dc-5f9a-4287-adae-6e70735e3026",
   "metadata": {},
   "outputs": [],
   "source": [
    "def get_device_list(ACCESS_TOKEN, BASE_URL):\n",
    "    \"\"\"Fetch the list of devices from HeyHome API.\"\"\"\n",
    "    device_url = f\"{BASE_URL}/devices\"\n",
    "    headers = {\"Authorization\": f\"Bearer {ACCESS_TOKEN}\"}\n",
    "\n",
    "    # API 호출\n",
    "    response = requests.get(device_url, headers=headers)\n",
    "    \n",
    "    if response.status_code == 200:\n",
    "        devices = response.json()\n",
    "        # print(\"Device List:\")\n",
    "        # for device in devices:\n",
    "        #     print(f\"- ID: {device['id']}, Name: {device['name']}, Type: {device['deviceType']}\")\n",
    "        return devices\n",
    "    else:\n",
    "        print(\"Error fetching devices:\", response.status_code, response.text)\n",
    "        return None"
   ]
  },
  {
   "cell_type": "code",
   "execution_count": null,
   "id": "f93a8d51-6451-4fff-8525-a3affd832632",
   "metadata": {
    "scrolled": true
   },
   "outputs": [
    {
     "data": {
      "text/plain": [
       "[{'id': '47260522a4e57c9dd5cf',\n",
       "  'name': '안방조명',\n",
       "  'deviceType': 'LightRgbw5',\n",
       "  'hasSubDevices': False,\n",
       "  'modelName': 'GKW-MD081',\n",
       "  'familyId': '49087331',\n",
       "  'category': 'dj',\n",
       "  'online': True},\n",
       " {'id': 'eb4ba5a3b2d1d893d8tkid',\n",
       "  'name': '안개발생기',\n",
       "  'deviceType': 'SmartPlugMini',\n",
       "  'hasSubDevices': False,\n",
       "  'modelName': '',\n",
       "  'familyId': '49087331',\n",
       "  'category': 'cz',\n",
       "  'online': True},\n",
       " {'id': 'ebde650d0bafd44afcyggh',\n",
       "  'name': '플라즈마',\n",
       "  'deviceType': 'SmartPlugMini',\n",
       "  'hasSubDevices': False,\n",
       "  'modelName': '',\n",
       "  'familyId': '49087331',\n",
       "  'category': 'cz',\n",
       "  'online': True},\n",
       " {'id': '50450710e8db84f198f8',\n",
       "  'name': '멀티탭',\n",
       "  'deviceType': 'PowerStrip2',\n",
       "  'hasSubDevices': False,\n",
       "  'modelName': '',\n",
       "  'familyId': '49087331',\n",
       "  'category': 'cz',\n",
       "  'online': True},\n",
       " {'id': '80001764f4cfa2fdb3a1',\n",
       "  'name': '책상',\n",
       "  'deviceType': 'LightRgbw5',\n",
       "  'hasSubDevices': False,\n",
       "  'modelName': 'GKW-MD081',\n",
       "  'familyId': '49087331',\n",
       "  'category': 'dj',\n",
       "  'online': True}]"
      ]
     },
     "execution_count": 13,
     "metadata": {},
     "output_type": "execute_result"
    }
   ],
   "source": [
    "response = get_device_list(ACCESS_TOKEN, BASE_URL)\n",
    "# response"
   ]
  },
  {
   "cell_type": "markdown",
   "id": "7aaf9077-b264-4677-bb1d-63f9be424783",
   "metadata": {},
   "source": [
    "### Heyhome Device 상태 조회 ('PowerStrip2', 'id': '50450710e8db84f198f8')"
   ]
  },
  {
   "cell_type": "markdown",
   "id": "35abe4be-ee25-4467-955b-bbc612a857a6",
   "metadata": {},
   "source": [
    "##### https://goqual.notion.site/Description-of-requirments-a7ad510d30b742fd8021e45e8f492546"
   ]
  },
  {
   "cell_type": "markdown",
   "id": "935065a3-3ab5-4f8e-877c-57157e117a05",
   "metadata": {},
   "source": [
    "```\n",
    "GET /openapi/device/${deviceId}\n",
    "Host: goqual.io\n",
    "Authorization: Bearer ${access_token}\n",
    "```"
   ]
  },
  {
   "cell_type": "code",
   "execution_count": null,
   "id": "85a73a85-f35e-44d4-aa1c-c60d596ccde4",
   "metadata": {},
   "outputs": [
    {
     "data": {
      "text/plain": [
       "'50450710e8db84f198f8'"
      ]
     },
     "execution_count": 14,
     "metadata": {},
     "output_type": "execute_result"
    }
   ],
   "source": [
    "device_id = response[3].get('id')\n",
    "# device_id"
   ]
  },
  {
   "cell_type": "code",
   "execution_count": 15,
   "id": "8c55dedc-b636-4fb8-b548-4d24cb0065f5",
   "metadata": {},
   "outputs": [],
   "source": [
    "# 저장할 토큰\n",
    "data = {\n",
    "    'token': ACCESS_TOKEN,\n",
    "    'device_id': device_id\n",
    "}\n",
    "\n",
    "# JSON 파일로 저장\n",
    "with open('token_deviceId.json', mode='w', encoding='utf-8') as file:\n",
    "    json.dump(data, file, ensure_ascii=False, indent=4)"
   ]
  },
  {
   "cell_type": "code",
   "execution_count": 16,
   "id": "31f40099-2c41-4a15-8aa7-a21a6145f07a",
   "metadata": {},
   "outputs": [],
   "source": [
    "def get_device_status(ACCESS_TOKEN, BASE_URL, device_id):\n",
    "    \"\"\"Fetch the current status of a device.\"\"\"\n",
    "    status_url = f\"{BASE_URL}/device/{device_id}\"\n",
    "    HEADERS = {\n",
    "        \"Authorization\": f\"Bearer {ACCESS_TOKEN}\",\n",
    "        \"Content-Type\": \"application/json\"\n",
    "    }\n",
    "    print(f\"Fetching status for device {device_id}...\")\n",
    "    response = requests.get(status_url, headers=HEADERS)\n",
    "\n",
    "    if response.status_code == 200:\n",
    "        status = response.json()\n",
    "        # print(f\"Current status of device {device_id}:\")\n",
    "        # print(json.dumps(status, indent=4))\n",
    "        return status\n",
    "    else:\n",
    "        print(f\"Failed to fetch status for device {device_id}:\", response.status_code, response.text)\n",
    "        return None"
   ]
  },
  {
   "cell_type": "code",
   "execution_count": null,
   "id": "a6a076ac-3f40-4061-8c77-124e5bfd9374",
   "metadata": {},
   "outputs": [
    {
     "name": "stdout",
     "output_type": "stream",
     "text": [
      "Fetching status for device 50450710e8db84f198f8...\n"
     ]
    },
    {
     "data": {
      "text/plain": [
       "{'id': '50450710e8db84f198f8',\n",
       " 'deviceType': 'PowerStrip2',\n",
       " 'deviceState': {'power1': False,\n",
       "  'power2': False,\n",
       "  'power3': False,\n",
       "  'power4': True,\n",
       "  'power5': True}}"
      ]
     },
     "execution_count": 17,
     "metadata": {},
     "output_type": "execute_result"
    }
   ],
   "source": [
    "get_device_status(ACCESS_TOKEN, BASE_URL, device_id)"
   ]
  },
  {
   "cell_type": "markdown",
   "id": "ea9d2f23-abdf-431f-8926-80d5ac39b92e",
   "metadata": {},
   "source": [
    "### Heyhome Device 제어 ('PowerStrip2', 'id': '50450710e8db84f198f8')"
   ]
  },
  {
   "cell_type": "markdown",
   "id": "e0363375-eb82-4f68-b15b-ae4ec957ae31",
   "metadata": {},
   "source": [
    "```\n",
    "POST /openapi/control/${deviceId}\n",
    "Host: goqual.io\n",
    "Authorization: Bearer ${access_token}\n",
    "```"
   ]
  },
  {
   "cell_type": "code",
   "execution_count": 18,
   "id": "e7c0eb20-6b67-4b7b-b7a5-58dd8416320b",
   "metadata": {},
   "outputs": [],
   "source": [
    "def control_power_strip_ports(ACCESS_TOKEN, BASE_URL, device_id, states):\n",
    "    \"\"\"\n",
    "    멀티탭의 여러 포트를 제어하는 함수\n",
    "    :param device_id: 제어할 장치의 ID\n",
    "    :param states: 포트 상태를 나타내는 딕셔너리 (예: {\"power1\": True, \"power2\": False})\n",
    "    \"\"\"\n",
    "    url = f\"{BASE_URL}/control/{device_id}\"\n",
    "    HEADERS = {\n",
    "        \"Authorization\": f\"Bearer {ACCESS_TOKEN}\",\n",
    "        \"Content-Type\": \"application/json\"\n",
    "    }\n",
    "    payload = {\n",
    "        \"requirments\": states  # 포트 상태를 전달\n",
    "    }\n",
    "    try:\n",
    "        response = requests.post(url, headers=HEADERS, data=json.dumps(payload))\n",
    "        if response.status_code == 200:\n",
    "            print(f\"Device {device_id} ports updated successfully.\")\n",
    "            return response\n",
    "        else:\n",
    "            print(f\"Failed to update device ports. Status code: {response.status_code}, Response: {response.text}\")\n",
    "    except Exception as e:\n",
    "        print(f\"An error occurred: {e}\")"
   ]
  },
  {
   "cell_type": "code",
   "execution_count": 19,
   "id": "19caa17c-ff8c-411c-8568-f36d3fb8c6a8",
   "metadata": {},
   "outputs": [],
   "source": [
    "states = {\n",
    "    'power1': False,\n",
    "    'power2': False,\n",
    "    'power3': False,\n",
    "    'power4': True,\n",
    "    # 'power5': True\n",
    "}"
   ]
  },
  {
   "cell_type": "code",
   "execution_count": 20,
   "id": "7aeee25d-2d02-4704-a968-bed0507db43a",
   "metadata": {},
   "outputs": [
    {
     "name": "stdout",
     "output_type": "stream",
     "text": [
      "Device 50450710e8db84f198f8 ports updated successfully.\n"
     ]
    },
    {
     "data": {
      "text/plain": [
       "<Response [200]>"
      ]
     },
     "execution_count": 20,
     "metadata": {},
     "output_type": "execute_result"
    }
   ],
   "source": [
    "control_power_strip_ports(ACCESS_TOKEN, BASE_URL, device_id, states)"
   ]
  },
  {
   "cell_type": "code",
   "execution_count": null,
   "id": "8083cf75-6608-4413-b974-fd8fc5bb61cf",
   "metadata": {},
   "outputs": [],
   "source": []
  },
  {
   "cell_type": "code",
   "execution_count": null,
   "id": "238f5bd6-080f-4619-b882-e996cdade419",
   "metadata": {},
   "outputs": [],
   "source": []
  },
  {
   "cell_type": "code",
   "execution_count": null,
   "id": "9eb887f5-b3f7-4b1e-b528-8e17f645dab2",
   "metadata": {},
   "outputs": [],
   "source": []
  },
  {
   "cell_type": "code",
   "execution_count": null,
   "id": "d44a7d1b-ddf0-4488-ad6a-05361cfdd9ec",
   "metadata": {},
   "outputs": [],
   "source": []
  },
  {
   "cell_type": "code",
   "execution_count": null,
   "id": "92f5d2cc-b60f-44c8-9410-f2dc3c9e4b98",
   "metadata": {},
   "outputs": [],
   "source": []
  },
  {
   "cell_type": "code",
   "execution_count": null,
   "id": "7c0b645c-95f9-4e91-b335-f9280fc21d5f",
   "metadata": {},
   "outputs": [],
   "source": []
  }
 ],
 "metadata": {
  "kernelspec": {
   "display_name": "Python 3 (ipykernel)",
   "language": "python",
   "name": "python3"
  },
  "language_info": {
   "codemirror_mode": {
    "name": "ipython",
    "version": 3
   },
   "file_extension": ".py",
   "mimetype": "text/x-python",
   "name": "python",
   "nbconvert_exporter": "python",
   "pygments_lexer": "ipython3",
   "version": "3.11.6"
  }
 },
 "nbformat": 4,
 "nbformat_minor": 5
}
