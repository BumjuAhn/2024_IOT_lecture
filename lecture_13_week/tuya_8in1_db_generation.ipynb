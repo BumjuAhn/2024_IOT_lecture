{
 "cells": [
  {
   "cell_type": "code",
   "execution_count": 1,
   "id": "a874b5e7-b5bd-4932-857a-ea7970b60c33",
   "metadata": {},
   "outputs": [],
   "source": [
    "import mysql.connector\n",
    "from mysql.connector import errorcode\n",
    "import os\n",
    "from dotenv import load_dotenv"
   ]
  },
  {
   "cell_type": "markdown",
   "id": "0bddfa5f-46cc-4435-a5c5-b5d56bb8e749",
   "metadata": {},
   "source": [
    "# 환경 변수 로드"
   ]
  },
  {
   "cell_type": "code",
   "execution_count": 2,
   "id": "834692c2-f5f6-4262-904e-02dfc79d7552",
   "metadata": {},
   "outputs": [
    {
     "data": {
      "text/plain": [
       "True"
      ]
     },
     "execution_count": 2,
     "metadata": {},
     "output_type": "execute_result"
    }
   ],
   "source": [
    "load_dotenv()"
   ]
  },
  {
   "cell_type": "markdown",
   "id": "c9dec1b8-94e1-4587-ac06-523bb1907099",
   "metadata": {},
   "source": [
    "# MySQL 설정 가져오기"
   ]
  },
  {
   "cell_type": "code",
   "execution_count": 3,
   "id": "bf1a641d-4720-475b-a5e2-37bc27a49cc4",
   "metadata": {},
   "outputs": [],
   "source": [
    "db_config = {\n",
    "    'host': os.getenv('MYSQL_HOST'),\n",
    "    'user': os.getenv('MYSQL_USER'),\n",
    "    'port': os.getenv('MYSQL_PORT'),\n",
    "    'password': os.getenv('MYSQL_PASSWORD')\n",
    "}\n",
    "\n",
    "database_name = os.getenv('MYSQL_DATABASE')"
   ]
  },
  {
   "cell_type": "markdown",
   "id": "fb96f67c-b0d7-4e67-9975-cf4cdbf926e1",
   "metadata": {},
   "source": [
    "# MySQL 데이터베이스 및 테이블 생성 함수"
   ]
  },
  {
   "cell_type": "code",
   "execution_count": 4,
   "id": "5ef0243b-da51-4008-a444-effb9f99e57b",
   "metadata": {},
   "outputs": [],
   "source": [
    "def create_database_and_table():\n",
    "    try:\n",
    "        # MySQL에 연결 (데이터베이스 없이 연결)\n",
    "        connection = mysql.connector.connect(**db_config)\n",
    "        cursor = connection.cursor()\n",
    "        \n",
    "        # 데이터베이스 생성\n",
    "        cursor.execute(f\"CREATE DATABASE IF NOT EXISTS {database_name}\")\n",
    "        print(f\"Database '{database_name}' created or already exists.\")\n",
    "        \n",
    "        # 데이터베이스 선택\n",
    "        connection.database = database_name\n",
    "\n",
    "        # 테이블 생성 쿼리\n",
    "        table_creation_query = \"\"\"\n",
    "            CREATE TABLE IF NOT EXISTS tuya_8in1 (\n",
    "                id INT AUTO_INCREMENT PRIMARY KEY,\n",
    "                t BIGINT NOT NULL,\n",
    "                temp_current FLOAT DEFAULT 0,\n",
    "                ph_current FLOAT DEFAULT 0,\n",
    "                tds_current FLOAT DEFAULT 0,\n",
    "                ec_current FLOAT DEFAULT 0,\n",
    "                salinity_current FLOAT DEFAULT 0,\n",
    "                pro_current FLOAT DEFAULT 0,\n",
    "                orp_current FLOAT DEFAULT 0,\n",
    "                cf_current FLOAT DEFAULT 0,\n",
    "                rh_current FLOAT DEFAULT 0,\n",
    "                created_at TIMESTAMP DEFAULT CURRENT_TIMESTAMP\n",
    "            )\n",
    "        \"\"\"\n",
    "        \n",
    "        # 테이블 생성\n",
    "        cursor.execute(table_creation_query)\n",
    "        print(\"Table 'measurement_table' created or already exists.\")\n",
    "\n",
    "    except mysql.connector.Error as err:\n",
    "        if err.errno == errorcode.ER_ACCESS_DENIED_ERROR:\n",
    "            print(\"Invalid credentials for MySQL.\")\n",
    "        elif err.errno == errorcode.ER_BAD_DB_ERROR:\n",
    "            print(\"Database does not exist.\")\n",
    "        else:\n",
    "            print(err)\n",
    "    else:\n",
    "        # 연결 및 커서 종료\n",
    "        cursor.close()\n",
    "        connection.close()\n",
    "        print(\"MySQL connection closed.\")"
   ]
  },
  {
   "cell_type": "markdown",
   "id": "913f63dc-5edc-465d-8d8f-b9508204094b",
   "metadata": {},
   "source": [
    "# 데이터베이스와 테이블 생성 함수 호출"
   ]
  },
  {
   "cell_type": "code",
   "execution_count": 5,
   "id": "88315980-fe54-4910-80d4-704c2a08806e",
   "metadata": {},
   "outputs": [
    {
     "name": "stdout",
     "output_type": "stream",
     "text": [
      "Database 'plasmafarm' created or already exists.\n",
      "Table 'measurement_table' created or already exists.\n",
      "MySQL connection closed.\n"
     ]
    }
   ],
   "source": [
    "create_database_and_table()"
   ]
  },
  {
   "cell_type": "code",
   "execution_count": null,
   "id": "916a23d7-3952-47f6-ab19-93d6540ca2e2",
   "metadata": {},
   "outputs": [],
   "source": []
  },
  {
   "cell_type": "code",
   "execution_count": null,
   "id": "4b847b9e-64f6-4790-8e2a-37b2cff4f178",
   "metadata": {},
   "outputs": [],
   "source": []
  },
  {
   "cell_type": "code",
   "execution_count": null,
   "id": "d9184b38-db66-4ad1-af5a-0dd76a4569b6",
   "metadata": {},
   "outputs": [],
   "source": []
  },
  {
   "cell_type": "code",
   "execution_count": null,
   "id": "2aac2c31-d395-4f6c-bcb2-bf26a39f942c",
   "metadata": {},
   "outputs": [],
   "source": []
  },
  {
   "cell_type": "code",
   "execution_count": null,
   "id": "5f6faa83-2850-4b8d-8deb-80ee20c58f3d",
   "metadata": {},
   "outputs": [],
   "source": []
  },
  {
   "cell_type": "code",
   "execution_count": null,
   "id": "0b812508-2266-403a-8eec-08d54e6d6f92",
   "metadata": {},
   "outputs": [],
   "source": []
  },
  {
   "cell_type": "code",
   "execution_count": null,
   "id": "6c2f2442-54a4-4aa8-ada1-9fe35adf0ab0",
   "metadata": {},
   "outputs": [],
   "source": []
  },
  {
   "cell_type": "code",
   "execution_count": null,
   "id": "7fdb180a-f959-48a5-8444-ae7b393b8896",
   "metadata": {},
   "outputs": [],
   "source": []
  },
  {
   "cell_type": "code",
   "execution_count": null,
   "id": "1de4b469-0463-45d5-94c7-caed70fab74d",
   "metadata": {},
   "outputs": [],
   "source": []
  },
  {
   "cell_type": "code",
   "execution_count": null,
   "id": "3b2b8be4-5d5b-4d04-aa3a-899809ba617c",
   "metadata": {},
   "outputs": [],
   "source": []
  },
  {
   "cell_type": "code",
   "execution_count": null,
   "id": "ab7bd693-fda0-4805-84be-a51459222e90",
   "metadata": {},
   "outputs": [],
   "source": []
  },
  {
   "cell_type": "code",
   "execution_count": null,
   "id": "040a8e43-f1aa-43ab-95af-282fb3f4a928",
   "metadata": {},
   "outputs": [],
   "source": []
  },
  {
   "cell_type": "code",
   "execution_count": null,
   "id": "701ff891-3c03-4707-be72-d852e1240e26",
   "metadata": {},
   "outputs": [],
   "source": []
  },
  {
   "cell_type": "code",
   "execution_count": null,
   "id": "f147c459-8a80-4e11-bb5a-5eef5e6e394c",
   "metadata": {},
   "outputs": [],
   "source": []
  },
  {
   "cell_type": "code",
   "execution_count": null,
   "id": "3d7b32ec-8a5d-426a-897a-8548a92db255",
   "metadata": {},
   "outputs": [],
   "source": []
  },
  {
   "cell_type": "code",
   "execution_count": null,
   "id": "2a174674-5784-4ae5-85fd-c1381f66ef2f",
   "metadata": {},
   "outputs": [],
   "source": []
  },
  {
   "cell_type": "code",
   "execution_count": null,
   "id": "deebd68e-464a-408e-89e5-bb27e38b4f12",
   "metadata": {},
   "outputs": [],
   "source": []
  },
  {
   "cell_type": "code",
   "execution_count": null,
   "id": "350ea04e-83a2-455b-ac89-0fc9df05d760",
   "metadata": {},
   "outputs": [],
   "source": []
  }
 ],
 "metadata": {
  "kernelspec": {
   "display_name": "Python 3 (ipykernel)",
   "language": "python",
   "name": "python3"
  },
  "language_info": {
   "codemirror_mode": {
    "name": "ipython",
    "version": 3
   },
   "file_extension": ".py",
   "mimetype": "text/x-python",
   "name": "python",
   "nbconvert_exporter": "python",
   "pygments_lexer": "ipython3",
   "version": "3.11.6"
  }
 },
 "nbformat": 4,
 "nbformat_minor": 5
}
