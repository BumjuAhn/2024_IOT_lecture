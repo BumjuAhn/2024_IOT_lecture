{
 "cells": [
  {
   "cell_type": "code",
   "execution_count": 1,
   "id": "ec30cb8d-c7bc-4acd-af28-14b7e1475cb3",
   "metadata": {},
   "outputs": [],
   "source": [
    "# ! pip install tuya-connector-python"
   ]
  },
  {
   "cell_type": "markdown",
   "id": "d18c6fac-689c-44c1-b8fb-eb2e36ce0bd4",
   "metadata": {},
   "source": [
    "##### https://github.com/tuya/tuya-connector-python/tree/main"
   ]
  },
  {
   "cell_type": "code",
   "execution_count": 2,
   "id": "5d4ae607-3412-4c6e-94a1-c78d254dcef6",
   "metadata": {},
   "outputs": [],
   "source": [
    "import os\n",
    "import time\n",
    "from dotenv import load_dotenv\n",
    "from tuya_connector import TuyaOpenAPI"
   ]
  },
  {
   "cell_type": "markdown",
   "id": "4dea8faf-5e72-470b-98bc-5767aa545762",
   "metadata": {},
   "source": [
    "### 환경 변수 로드"
   ]
  },
  {
   "cell_type": "code",
   "execution_count": 3,
   "id": "1efb8b7c-452a-413f-9742-efa9d0c70436",
   "metadata": {},
   "outputs": [
    {
     "data": {
      "text/plain": [
       "True"
      ]
     },
     "execution_count": 3,
     "metadata": {},
     "output_type": "execute_result"
    }
   ],
   "source": [
    "load_dotenv()"
   ]
  },
  {
   "cell_type": "markdown",
   "id": "2c676551-0566-43d9-8a09-a38e7e030e1d",
   "metadata": {},
   "source": [
    "### Tuya API 설정"
   ]
  },
  {
   "cell_type": "markdown",
   "id": "48c0ffc9-6bfa-42db-8bb4-64e069106824",
   "metadata": {},
   "source": [
    "##### Address : https://platform.tuya.com/"
   ]
  },
  {
   "cell_type": "code",
   "execution_count": 4,
   "id": "b833c12c-14bd-4f31-b196-4494629911eb",
   "metadata": {},
   "outputs": [],
   "source": [
    "API_ENDPOINT = os.getenv('API_ENDPOINT')\n",
    "ACCESS_ID = os.getenv('ACCESS_ID')\n",
    "ACCESS_SECRET = os.getenv('ACCESS_SECRET')\n",
    "\n",
    "DEVICE_ID = os.getenv('DEVICE_ID_ONLINE_8IN1_TESTER')"
   ]
  },
  {
   "cell_type": "code",
   "execution_count": 5,
   "id": "e92cb0a6-5ef4-40ab-bf21-f15183182106",
   "metadata": {},
   "outputs": [
    {
     "name": "stdout",
     "output_type": "stream",
     "text": [
      "https://openapi.tuyaus.com 34fanh8dx8pc47vjmkwh 443b45e460c54db3bb25a5b0e83fe06c\n"
     ]
    }
   ],
   "source": [
    "print(API_ENDPOINT, ACCESS_ID, ACCESS_SECRET)"
   ]
  },
  {
   "cell_type": "markdown",
   "id": "fd352bd7-8391-4e5f-b9b9-858f38366078",
   "metadata": {},
   "source": [
    "### Tuya API 연결 설정"
   ]
  },
  {
   "cell_type": "code",
   "execution_count": 6,
   "id": "875213c0-12fd-40ba-b3fd-c491359e96cd",
   "metadata": {},
   "outputs": [
    {
     "data": {
      "text/plain": [
       "{'result': {'access_token': '6244ff99094138b860b96745f96db54c',\n",
       "  'expire_time': 4309,\n",
       "  'refresh_token': 'fcda7e296c5fac7cdd9f57594e380cce',\n",
       "  'uid': 'bay1732234083352wqie'},\n",
       " 'success': True,\n",
       " 't': 1733292705039,\n",
       " 'tid': 'a341857ab20611efa2cae6bb15587f28'}"
      ]
     },
     "execution_count": 6,
     "metadata": {},
     "output_type": "execute_result"
    }
   ],
   "source": [
    "openapi = TuyaOpenAPI(API_ENDPOINT, ACCESS_ID, ACCESS_SECRET)\n",
    "openapi.connect()"
   ]
  },
  {
   "cell_type": "markdown",
   "id": "1623106f-4e71-4209-96a6-fad3c454b100",
   "metadata": {},
   "source": [
    "### Device List"
   ]
  },
  {
   "cell_type": "markdown",
   "id": "b6655621-c175-41de-8cd7-56dfd1e02677",
   "metadata": {},
   "source": [
    "##### Device Management/Query Devices in Project\n",
    "```\n",
    "curl --request GET \"https://openapi.tuyaus.com/v2.0/cloud/thing/device?page_size=10\" --header \"sign_method: HMAC-SHA256\" --header \"client_id: 34fanh8dx8pc47vjmkwh\" --header \"t: 1733288835510\" --header \"mode: cors\" --header \"Content-Type: application/json\" --header \"sign: 366D60212D21CC44B435108282223B3104EE20124E44FEF7F59A7C2FB6F74A1C\" --header \"access_token: d7feb56ebeded08636cbf6dd6072df08\"\n",
    "```"
   ]
  },
  {
   "cell_type": "code",
   "execution_count": 7,
   "id": "773310e1-3829-4820-9ad2-3d324eca8615",
   "metadata": {
    "scrolled": true
   },
   "outputs": [
    {
     "data": {
      "text/plain": [
       "{'result': [{'activeTime': 1732871044,\n",
       "   'bindSpaceId': '210992602',\n",
       "   'category': 'dgnbj',\n",
       "   'createTime': 1729579015,\n",
       "   'customName': '',\n",
       "   'icon': 'smart/icon/bay1620787138798I6P6/5fcbef251f475d1d19ca05f97ebaf54f.png',\n",
       "   'id': 'eb1848aec03ab230cbbvnq',\n",
       "   'ip': '175.223.14.25',\n",
       "   'isOnline': True,\n",
       "   'lat': '37.56',\n",
       "   'localKey': '&[@eQ/$lk|~n+GXk',\n",
       "   'lon': '127.04',\n",
       "   'model': '',\n",
       "   'name': 'WiFi smart online 8 in 1 tester',\n",
       "   'productId': 'layxxij0sdbrfmrf',\n",
       "   'productName': 'WiFi smart  online 8 in 1 tester',\n",
       "   'sub': False,\n",
       "   'timeZone': '+09:00',\n",
       "   'updateTime': 1732871047,\n",
       "   'uuid': '147d7c597dc7d803'},\n",
       "  {'activeTime': 1730252813,\n",
       "   'bindSpaceId': '210992602',\n",
       "   'category': 'tdq',\n",
       "   'createTime': 1724395717,\n",
       "   'customName': '',\n",
       "   'icon': 'smart/icon/bay1658461740620Y32X/67c3a03643b9e0546b513cb2be045423.png',\n",
       "   'id': 'eb69ea554dc6baaafdevpz',\n",
       "   'ip': '175.223.15.47',\n",
       "   'isOnline': True,\n",
       "   'lat': '37.56',\n",
       "   'localKey': 'M7S{h!SDo$[Hr)(E',\n",
       "   'lon': '127.04',\n",
       "   'model': '4-433',\n",
       "   'name': '4-433',\n",
       "   'productId': 'fqcadscdjtwhd1qs',\n",
       "   'productName': '4-433',\n",
       "   'sub': False,\n",
       "   'timeZone': '+09:00',\n",
       "   'updateTime': 1730866277,\n",
       "   'uuid': '111f9fe2b16f146b'}],\n",
       " 'success': True,\n",
       " 't': 1733292705238,\n",
       " 'tid': 'a35b8836b20611efa2cae6bb15587f28'}"
      ]
     },
     "execution_count": 7,
     "metadata": {},
     "output_type": "execute_result"
    }
   ],
   "source": [
    "response = openapi.get(f\"/v2.0/cloud/thing/device?page_size=10\")\n",
    "response"
   ]
  },
  {
   "cell_type": "markdown",
   "id": "076eb201-82a9-4c48-b1e7-731038f7ec0a",
   "metadata": {},
   "source": [
    "### Read Device Infomation of Device ID ('id': 'eb1848aec03ab230cbbvnq') "
   ]
  },
  {
   "cell_type": "markdown",
   "id": "3582d776-4bd7-4d99-8f1c-94d3fbce9ae5",
   "metadata": {},
   "source": [
    "##### Device Management/Query Device Details\n",
    "\n",
    "```\n",
    "curl --request GET \"https://openapi.tuyaus.com/v2.0/cloud/thing/eb1848aec03ab230cbbvnq\" --header \"sign_method: HMAC-SHA256\" --header \"client_id: 34fanh8dx8pc47vjmkwh\" --header \"t: 1733289715588\" --header \"mode: cors\" --header \"Content-Type: application/json\" --header \"sign: 49B84B3D2E2B553DD85F7CC6EF75D10547DA003DB218C2A6379E68CA54BB4F6B\" --header \"access_token: d7feb56ebeded08636cbf6dd6072df08\"\n",
    "```"
   ]
  },
  {
   "cell_type": "code",
   "execution_count": 8,
   "id": "f7ed0412-fc7b-4732-aa4e-2b6738b9e389",
   "metadata": {},
   "outputs": [
    {
     "data": {
      "text/plain": [
       "{'result': {'active_time': 1732871044,\n",
       "  'bind_space_id': '210992602',\n",
       "  'category': 'dgnbj',\n",
       "  'create_time': 1729579015,\n",
       "  'custom_name': '',\n",
       "  'icon': 'smart/icon/bay1620787138798I6P6/5fcbef251f475d1d19ca05f97ebaf54f.png',\n",
       "  'id': 'eb1848aec03ab230cbbvnq',\n",
       "  'ip': '175.223.14.25',\n",
       "  'is_online': True,\n",
       "  'lat': '37.56',\n",
       "  'local_key': '&[@eQ/$lk|~n+GXk',\n",
       "  'lon': '127.04',\n",
       "  'model': '',\n",
       "  'name': 'WiFi smart online 8 in 1 tester',\n",
       "  'product_id': 'layxxij0sdbrfmrf',\n",
       "  'product_name': 'WiFi smart  online 8 in 1 tester',\n",
       "  'sub': False,\n",
       "  'time_zone': '+09:00',\n",
       "  'update_time': 1732871047,\n",
       "  'uuid': '147d7c597dc7d803'},\n",
       " 'success': True,\n",
       " 't': 1733292705437,\n",
       " 'tid': 'a37a5f04b20611efbd404216baaa6809'}"
      ]
     },
     "execution_count": 8,
     "metadata": {},
     "output_type": "execute_result"
    }
   ],
   "source": [
    "response = openapi.get(f\"/v2.0/cloud/thing/{DEVICE_ID}\")\n",
    "response"
   ]
  },
  {
   "cell_type": "markdown",
   "id": "901ce53a-ab84-49c9-8184-96bd981a6d36",
   "metadata": {},
   "source": [
    "### Read Current Sensor data of Device ID ('id': 'eb1848aec03ab230cbbvnq') "
   ]
  },
  {
   "cell_type": "markdown",
   "id": "4f7bc15d-f52f-488d-bd39-3400a01031de",
   "metadata": {},
   "source": [
    "##### Device Control/Query Properties\n",
    "\n",
    "```\n",
    "curl --request GET \"https://openapi.tuyaus.com/v2.0/cloud/thing/eb1848aec03ab230cbbvnq/shadow/properties\" --header \"sign_method: HMAC-SHA256\" --header \"client_id: 34fanh8dx8pc47vjmkwh\" --header \"t: 1733290161728\" --header \"mode: cors\" --header \"Content-Type: application/json\" --header \"sign: 37136D15C7264DED7FE7123B8913EEB41C95693BC176887F5CBA2F667270F0E2\" --header \"access_token: d7feb56ebeded08636cbf6dd6072df08\"\n",
    "```"
   ]
  },
  {
   "cell_type": "code",
   "execution_count": 9,
   "id": "83395c7f-1637-4ef1-83cc-e564b9f48f35",
   "metadata": {
    "scrolled": true
   },
   "outputs": [
    {
     "data": {
      "text/plain": [
       "{'result': {'properties': [{'code': 'temp_current',\n",
       "    'custom_name': '',\n",
       "    'dp_id': 8,\n",
       "    'time': 1733292698709,\n",
       "    'type': 'value',\n",
       "    'value': 183},\n",
       "   {'code': 'sensor_list',\n",
       "    'custom_name': '',\n",
       "    'dp_id': 101,\n",
       "    'time': 1733292698308,\n",
       "    'type': 'raw',\n",
       "    'value': 'AQEBAQEBAQEAAAA='},\n",
       "   {'code': 'temp_warn_max',\n",
       "    'custom_name': '',\n",
       "    'dp_id': 102,\n",
       "    'time': 1729580268000,\n",
       "    'type': 'value',\n",
       "    'value': 749},\n",
       "   {'code': 'temp_warn_min',\n",
       "    'custom_name': '',\n",
       "    'dp_id': 103,\n",
       "    'time': 1729579015964,\n",
       "    'type': 'value',\n",
       "    'value': -100},\n",
       "   {'code': 'ph_current',\n",
       "    'custom_name': '',\n",
       "    'dp_id': 106,\n",
       "    'time': 1733292698713,\n",
       "    'type': 'value',\n",
       "    'value': 827},\n",
       "   {'code': 'ph_warn_max',\n",
       "    'custom_name': '',\n",
       "    'dp_id': 107,\n",
       "    'time': 1729579015964,\n",
       "    'type': 'value',\n",
       "    'value': 0},\n",
       "   {'code': 'ph_warn_min',\n",
       "    'custom_name': '',\n",
       "    'dp_id': 108,\n",
       "    'time': 1729579015964,\n",
       "    'type': 'value',\n",
       "    'value': 0},\n",
       "   {'code': 'tds_current',\n",
       "    'custom_name': '',\n",
       "    'dp_id': 111,\n",
       "    'time': 1733292698721,\n",
       "    'type': 'value',\n",
       "    'value': 120},\n",
       "   {'code': 'tds_warn_max',\n",
       "    'custom_name': '',\n",
       "    'dp_id': 112,\n",
       "    'time': 1729579015964,\n",
       "    'type': 'value',\n",
       "    'value': 0},\n",
       "   {'code': 'tds_warn_min',\n",
       "    'custom_name': '',\n",
       "    'dp_id': 113,\n",
       "    'time': 1729579015964,\n",
       "    'type': 'value',\n",
       "    'value': 0},\n",
       "   {'code': 'ec_current',\n",
       "    'custom_name': '',\n",
       "    'dp_id': 116,\n",
       "    'time': 1733292698723,\n",
       "    'type': 'value',\n",
       "    'value': 240},\n",
       "   {'code': 'ec_warn_max',\n",
       "    'custom_name': '',\n",
       "    'dp_id': 117,\n",
       "    'time': 1729579015964,\n",
       "    'type': 'value',\n",
       "    'value': 0},\n",
       "   {'code': 'ec_warn_min',\n",
       "    'custom_name': '',\n",
       "    'dp_id': 118,\n",
       "    'time': 1729579015964,\n",
       "    'type': 'value',\n",
       "    'value': 0},\n",
       "   {'code': 'salinity_current',\n",
       "    'custom_name': '',\n",
       "    'dp_id': 121,\n",
       "    'time': 1733292698836,\n",
       "    'type': 'value',\n",
       "    'value': 140},\n",
       "   {'code': 'salinity_warn_max',\n",
       "    'custom_name': '',\n",
       "    'dp_id': 122,\n",
       "    'time': 1729579015964,\n",
       "    'type': 'value',\n",
       "    'value': 0},\n",
       "   {'code': 'salinity_warn_min',\n",
       "    'custom_name': '',\n",
       "    'dp_id': 123,\n",
       "    'time': 1729579015964,\n",
       "    'type': 'value',\n",
       "    'value': 0},\n",
       "   {'code': 'pro_current',\n",
       "    'custom_name': '',\n",
       "    'dp_id': 126,\n",
       "    'time': 1733292698918,\n",
       "    'type': 'value',\n",
       "    'value': 1000},\n",
       "   {'code': 'pro_warn_max',\n",
       "    'custom_name': '',\n",
       "    'dp_id': 127,\n",
       "    'time': 1729579015964,\n",
       "    'type': 'value',\n",
       "    'value': 500},\n",
       "   {'code': 'pro_warn_min',\n",
       "    'custom_name': '',\n",
       "    'dp_id': 128,\n",
       "    'time': 1729579015964,\n",
       "    'type': 'value',\n",
       "    'value': 500},\n",
       "   {'code': 'orp_current',\n",
       "    'custom_name': '',\n",
       "    'dp_id': 131,\n",
       "    'time': 1733292699033,\n",
       "    'type': 'value',\n",
       "    'value': 209},\n",
       "   {'code': 'orp_warn_max',\n",
       "    'custom_name': '',\n",
       "    'dp_id': 132,\n",
       "    'time': 1729579015964,\n",
       "    'type': 'value',\n",
       "    'value': -2000},\n",
       "   {'code': 'orp_warn_min',\n",
       "    'custom_name': '',\n",
       "    'dp_id': 133,\n",
       "    'time': 1729579015964,\n",
       "    'type': 'value',\n",
       "    'value': -2000},\n",
       "   {'code': 'cf_current',\n",
       "    'custom_name': '',\n",
       "    'dp_id': 136,\n",
       "    'time': 1733292699119,\n",
       "    'type': 'value',\n",
       "    'value': 240},\n",
       "   {'code': 'cf_warn_max',\n",
       "    'custom_name': '',\n",
       "    'dp_id': 137,\n",
       "    'time': 1729579015964,\n",
       "    'type': 'value',\n",
       "    'value': 0},\n",
       "   {'code': 'cf_warn_min',\n",
       "    'custom_name': '',\n",
       "    'dp_id': 138,\n",
       "    'time': 1729579015964,\n",
       "    'type': 'value',\n",
       "    'value': 1},\n",
       "   {'code': 'rh_current',\n",
       "    'custom_name': '',\n",
       "    'dp_id': 141,\n",
       "    'time': 1733292703777,\n",
       "    'type': 'value',\n",
       "    'value': 0},\n",
       "   {'code': 'rh_warn_max',\n",
       "    'custom_name': '',\n",
       "    'dp_id': 142,\n",
       "    'time': 1729579015964,\n",
       "    'type': 'value',\n",
       "    'value': 0},\n",
       "   {'code': 'rh_warn_min',\n",
       "    'custom_name': '',\n",
       "    'dp_id': 143,\n",
       "    'time': 1729579015964,\n",
       "    'type': 'value',\n",
       "    'value': 0}]},\n",
       " 'success': True,\n",
       " 't': 1733292705798,\n",
       " 'tid': 'a3984903b20611efbb1feeec0f1e308d'}"
      ]
     },
     "execution_count": 9,
     "metadata": {},
     "output_type": "execute_result"
    }
   ],
   "source": [
    "response = openapi.get(f\"/v2.0/cloud/thing/{DEVICE_ID}/shadow/properties\")\n",
    "response"
   ]
  },
  {
   "cell_type": "code",
   "execution_count": 10,
   "id": "7de3e348-2cb7-487e-bb85-eaf21170b5f0",
   "metadata": {},
   "outputs": [
    {
     "data": {
      "text/plain": [
       "{'temp_current': 183,\n",
       " 'ph_current': 827,\n",
       " 'tds_current': 120,\n",
       " 'ec_current': 240,\n",
       " 'salinity_current': 140,\n",
       " 'pro_current': 1000,\n",
       " 'orp_current': 209,\n",
       " 'cf_current': 240,\n",
       " 'rh_current': 0}"
      ]
     },
     "execution_count": 10,
     "metadata": {},
     "output_type": "execute_result"
    }
   ],
   "source": [
    "data = {prop['code']: prop['value'] for prop in response['result']['properties'] if 'current' in prop['code']}\n",
    "data"
   ]
  },
  {
   "cell_type": "markdown",
   "id": "84c44165-421f-4251-9820-6b3075d60d7c",
   "metadata": {},
   "source": [
    "### Tuya API에서 데이터를 가져오는 함수"
   ]
  },
  {
   "cell_type": "code",
   "execution_count": 11,
   "id": "775c9fd3-44bb-44b0-837a-c0c361fdf57b",
   "metadata": {},
   "outputs": [],
   "source": [
    "def fetch_tuya_data():\n",
    "    try:\n",
    "        data = openapi.get(f\"/v2.0/cloud/thing/{DEVICE_ID}/shadow/properties\")\n",
    "        return {prop['code']: prop['value'] for prop in data['result']['properties'] if 'current' in prop['code']}\n",
    "    except Exception as e:\n",
    "        print(f\"Error fetching data from Tuya API: {e}\")\n",
    "        return None"
   ]
  },
  {
   "cell_type": "code",
   "execution_count": 12,
   "id": "5b3c7c66-85be-4842-b18f-19cc112f69d0",
   "metadata": {},
   "outputs": [
    {
     "data": {
      "text/plain": [
       "{'temp_current': 183,\n",
       " 'ph_current': 827,\n",
       " 'tds_current': 120,\n",
       " 'ec_current': 240,\n",
       " 'salinity_current': 140,\n",
       " 'pro_current': 1000,\n",
       " 'orp_current': 209,\n",
       " 'cf_current': 240,\n",
       " 'rh_current': 0}"
      ]
     },
     "execution_count": 12,
     "metadata": {},
     "output_type": "execute_result"
    }
   ],
   "source": [
    "fetch_tuya_data()"
   ]
  },
  {
   "cell_type": "code",
   "execution_count": null,
   "id": "d44a7d1b-ddf0-4488-ad6a-05361cfdd9ec",
   "metadata": {},
   "outputs": [],
   "source": []
  },
  {
   "cell_type": "code",
   "execution_count": null,
   "id": "92f5d2cc-b60f-44c8-9410-f2dc3c9e4b98",
   "metadata": {},
   "outputs": [],
   "source": []
  },
  {
   "cell_type": "code",
   "execution_count": null,
   "id": "7c0b645c-95f9-4e91-b335-f9280fc21d5f",
   "metadata": {},
   "outputs": [],
   "source": []
  }
 ],
 "metadata": {
  "kernelspec": {
   "display_name": "Python 3 (ipykernel)",
   "language": "python",
   "name": "python3"
  },
  "language_info": {
   "codemirror_mode": {
    "name": "ipython",
    "version": 3
   },
   "file_extension": ".py",
   "mimetype": "text/x-python",
   "name": "python",
   "nbconvert_exporter": "python",
   "pygments_lexer": "ipython3",
   "version": "3.11.6"
  }
 },
 "nbformat": 4,
 "nbformat_minor": 5
}
