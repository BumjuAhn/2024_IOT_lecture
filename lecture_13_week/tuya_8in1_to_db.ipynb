{
 "cells": [
  {
   "cell_type": "code",
   "execution_count": 1,
   "id": "2ef0f79e-1b9e-4ec9-8b7a-2e705b9eef7e",
   "metadata": {},
   "outputs": [],
   "source": [
    "import os\n",
    "import time\n",
    "from dotenv import load_dotenv\n",
    "from tuya_connector import TuyaOpenAPI\n",
    "import mysql.connector"
   ]
  },
  {
   "cell_type": "markdown",
   "id": "3c3877dc-aae9-431c-8900-8648f2a61f85",
   "metadata": {},
   "source": [
    "## 환경 변수 로드"
   ]
  },
  {
   "cell_type": "code",
   "execution_count": 2,
   "id": "ea3072ac-91ba-4013-9972-acb2ebb59cd0",
   "metadata": {},
   "outputs": [
    {
     "data": {
      "text/plain": [
       "True"
      ]
     },
     "execution_count": 2,
     "metadata": {},
     "output_type": "execute_result"
    }
   ],
   "source": [
    "load_dotenv()"
   ]
  },
  {
   "cell_type": "markdown",
   "id": "d6e25ee9-3e85-4577-b74a-186b42cd3f04",
   "metadata": {},
   "source": [
    "## Tuya API 설정"
   ]
  },
  {
   "cell_type": "code",
   "execution_count": 3,
   "id": "3dc701fa-6596-4514-853b-37225abc189f",
   "metadata": {},
   "outputs": [],
   "source": [
    "API_ENDPOINT = os.getenv('API_ENDPOINT')\n",
    "ACCESS_ID = os.getenv('ACCESS_ID')\n",
    "ACCESS_SECRET = os.getenv('ACCESS_SECRET')\n",
    "DEVICE_ID = os.getenv('DEVICE_ID_ONLINE_8IN1_TESTER')"
   ]
  },
  {
   "cell_type": "markdown",
   "id": "99859415-4299-4bbc-b255-626994f0c845",
   "metadata": {},
   "source": [
    "## Tuya API 연결 설정"
   ]
  },
  {
   "cell_type": "code",
   "execution_count": 4,
   "id": "f7a8c515-716f-4652-9c77-e750c199ce0b",
   "metadata": {},
   "outputs": [
    {
     "data": {
      "text/plain": [
       "{'result': {'access_token': '6244ff99094138b860b96745f96db54c',\n",
       "  'expire_time': 2661,\n",
       "  'refresh_token': 'fcda7e296c5fac7cdd9f57594e380cce',\n",
       "  'uid': 'bay1732234083352wqie'},\n",
       " 'success': True,\n",
       " 't': 1733294353587,\n",
       " 'tid': '79dde419b20a11efa2cae6bb15587f28'}"
      ]
     },
     "execution_count": 4,
     "metadata": {},
     "output_type": "execute_result"
    }
   ],
   "source": [
    "openapi = TuyaOpenAPI(API_ENDPOINT, ACCESS_ID, ACCESS_SECRET)\n",
    "openapi.connect()"
   ]
  },
  {
   "cell_type": "markdown",
   "id": "ef5aef81-477f-4251-a14e-4ab2b6acb673",
   "metadata": {},
   "source": [
    "## MySQL 연결"
   ]
  },
  {
   "cell_type": "code",
   "execution_count": 5,
   "id": "40a7b799-7908-407d-b14d-479d889bf17c",
   "metadata": {},
   "outputs": [],
   "source": [
    "def connect_mysql():\n",
    "    return mysql.connector.connect(\n",
    "        host=os.getenv('MYSQL_HOST'),\n",
    "        port=int(os.getenv('MYSQL_PORT', 3306)),\n",
    "        user=os.getenv('MYSQL_USER'),\n",
    "        password=os.getenv('MYSQL_PASSWORD'),\n",
    "        database=os.getenv('MYSQL_DATABASE')\n",
    "    )"
   ]
  },
  {
   "cell_type": "code",
   "execution_count": 6,
   "id": "64b927ee-6cdc-44df-8bd4-b94cfbc78fdf",
   "metadata": {},
   "outputs": [],
   "source": [
    "mysql_connection = connect_mysql()\n",
    "cursor = mysql_connection.cursor()"
   ]
  },
  {
   "cell_type": "markdown",
   "id": "e562527c-6449-4052-a8b9-506edbf000c7",
   "metadata": {},
   "source": [
    "## MySQL 연결 상태를 확인하고 끊어진 경우 재연결"
   ]
  },
  {
   "cell_type": "code",
   "execution_count": 7,
   "id": "10e6d873-3e6b-42e2-b930-2c62d6ad13a0",
   "metadata": {},
   "outputs": [],
   "source": [
    "def check_mysql_connection():\n",
    "    \"\"\"MySQL 연결 상태를 확인하고 끊어진 경우 재연결\"\"\"\n",
    "    global mysql_connection, cursor\n",
    "    try:\n",
    "        mysql_connection.ping(reconnect=True, attempts=3, delay=2)\n",
    "    except mysql.connector.Error:\n",
    "        print(\"MySQL connection lost. Reconnecting...\")\n",
    "        mysql_connection = connect_mysql()\n",
    "        cursor = mysql_connection.cursor()"
   ]
  },
  {
   "cell_type": "markdown",
   "id": "5a9e93fc-7c94-41eb-a885-362ad4a576cc",
   "metadata": {},
   "source": [
    "## Tuya API에서 데이터를 가져오는 함수"
   ]
  },
  {
   "cell_type": "code",
   "execution_count": 8,
   "id": "6a868ea9-31cb-43b0-a288-6bd1838ed336",
   "metadata": {},
   "outputs": [],
   "source": [
    "def fetch_tuya_data():\n",
    "    \"\"\"Tuya API에서 데이터를 가져오는 함수\"\"\"\n",
    "    try:\n",
    "        data = openapi.get(f\"/v2.0/cloud/thing/{DEVICE_ID}/shadow/properties\")\n",
    "        return {prop['code']: prop['value'] for prop in data['result']['properties'] if 'current' in prop['code']}\n",
    "    except Exception as e:\n",
    "        print(f\"Error fetching data from Tuya API: {e}\")\n",
    "        return None"
   ]
  },
  {
   "cell_type": "code",
   "execution_count": 9,
   "id": "519d2d12-977f-4f45-a39b-bbe4f4d9ba13",
   "metadata": {},
   "outputs": [],
   "source": [
    "def save_to_mysql(result, timestamp):\n",
    "    \"\"\"MySQL에 데이터를 저장하는 함수\"\"\"\n",
    "    check_mysql_connection()  # 연결 상태 확인 및 복구\n",
    "    try:\n",
    "        query = \"\"\"\n",
    "            INSERT INTO tuya_8in1 (t, temp_current, ph_current, tds_current, ec_current, salinity_current, pro_current, orp_current, cf_current, rh_current)\n",
    "            VALUES (%s, %s, %s, %s, %s, %s, %s, %s, %s, %s)\n",
    "        \"\"\"\n",
    "        cursor.execute(query, (timestamp, *[result.get(key, 0) for key in [\"temp_current\", \"ph_current\", \"tds_current\", \"ec_current\", \"salinity_current\", \"pro_current\", \"orp_current\", \"cf_current\", \"rh_current\"]]))\n",
    "        mysql_connection.commit()\n",
    "    except mysql.connector.Error as err:\n",
    "        print(f\"MySQL Error: {err}\")"
   ]
  },
  {
   "cell_type": "code",
   "execution_count": 10,
   "id": "8f4416fd-2c9f-45cc-ae37-29890dde6433",
   "metadata": {},
   "outputs": [
    {
     "name": "stdout",
     "output_type": "stream",
     "text": [
      "프로그램이 중지되었습니다.\n",
      "Connections closed.\n"
     ]
    }
   ],
   "source": [
    "# 주기적 데이터 수집 및 저장 루프\n",
    "last_time = time.time()\n",
    "\n",
    "try:\n",
    "    while True:\n",
    "        if time.time() - last_time >= 10:\n",
    "            result = fetch_tuya_data()\n",
    "            if result:\n",
    "                timestamp = result.pop('t', time.time() * 1000)\n",
    "                save_to_mysql(result, timestamp)\n",
    "            last_time = time.time()\n",
    "\n",
    "except KeyboardInterrupt:\n",
    "    print(\"프로그램이 중지되었습니다.\")\n",
    "\n",
    "finally:\n",
    "    # 자원 해제\n",
    "    cursor.close()\n",
    "    mysql_connection.close()\n",
    "    print(\"Connections closed.\")"
   ]
  },
  {
   "cell_type": "code",
   "execution_count": null,
   "id": "6ce15c7d-9e37-4d2e-8c1d-b00345711aa6",
   "metadata": {},
   "outputs": [],
   "source": []
  },
  {
   "cell_type": "code",
   "execution_count": null,
   "id": "e3c3354a-e8df-4968-8e3b-7103419c373d",
   "metadata": {},
   "outputs": [],
   "source": []
  },
  {
   "cell_type": "code",
   "execution_count": null,
   "id": "77b63406-4afa-49db-b875-17b5a7581894",
   "metadata": {},
   "outputs": [],
   "source": []
  },
  {
   "cell_type": "code",
   "execution_count": null,
   "id": "c1790260-12b0-45f0-abb7-705b065dddc6",
   "metadata": {},
   "outputs": [],
   "source": []
  },
  {
   "cell_type": "code",
   "execution_count": null,
   "id": "903d7772-5f80-426e-b1ec-6fb3ac9827d7",
   "metadata": {},
   "outputs": [],
   "source": []
  },
  {
   "cell_type": "code",
   "execution_count": null,
   "id": "038f172b-e1de-4fb7-a35f-34903cc3e103",
   "metadata": {},
   "outputs": [],
   "source": []
  },
  {
   "cell_type": "code",
   "execution_count": null,
   "id": "05dced6a-3683-4b3e-b71c-9e97b6c7a431",
   "metadata": {},
   "outputs": [],
   "source": []
  }
 ],
 "metadata": {
  "kernelspec": {
   "display_name": "Python 3 (ipykernel)",
   "language": "python",
   "name": "python3"
  },
  "language_info": {
   "codemirror_mode": {
    "name": "ipython",
    "version": 3
   },
   "file_extension": ".py",
   "mimetype": "text/x-python",
   "name": "python",
   "nbconvert_exporter": "python",
   "pygments_lexer": "ipython3",
   "version": "3.11.6"
  }
 },
 "nbformat": 4,
 "nbformat_minor": 5
}
